{
 "cells": [
  {
   "cell_type": "code",
   "execution_count": 1,
   "metadata": {},
   "outputs": [
    {
     "ename": "AttributeError",
     "evalue": "module 'time' has no attribute 'now'",
     "output_type": "error",
     "traceback": [
      "\u001b[0;31m---------------------------------------------------------------------------\u001b[0m",
      "\u001b[0;31mAttributeError\u001b[0m                            Traceback (most recent call last)",
      "\u001b[0;32m/var/folders/r9/sn_m76cx1pngmrvcqmrwbls40000gn/T/ipykernel_11352/62915825.py\u001b[0m in \u001b[0;36m<module>\u001b[0;34m\u001b[0m\n\u001b[1;32m      1\u001b[0m \u001b[0;32mimport\u001b[0m \u001b[0mtime\u001b[0m\u001b[0;34m\u001b[0m\u001b[0;34m\u001b[0m\u001b[0m\n\u001b[1;32m      2\u001b[0m \u001b[0;34m\u001b[0m\u001b[0m\n\u001b[0;32m----> 3\u001b[0;31m \u001b[0mtime\u001b[0m\u001b[0;34m.\u001b[0m\u001b[0mnow\u001b[0m\u001b[0;34m(\u001b[0m\u001b[0;34m)\u001b[0m\u001b[0;34m\u001b[0m\u001b[0;34m\u001b[0m\u001b[0m\n\u001b[0m",
      "\u001b[0;31mAttributeError\u001b[0m: module 'time' has no attribute 'now'"
     ]
    }
   ],
   "source": [
    "import time\n",
    "\n",
    "time.now()"
   ]
  },
  {
   "cell_type": "code",
   "execution_count": 6,
   "metadata": {},
   "outputs": [
    {
     "name": "stdout",
     "output_type": "stream",
     "text": [
      "({'mean': 12424, 'std': 344531, 'min': 23423, 'max': 12},)\n"
     ]
    }
   ],
   "source": [
    "timings = {\n",
    "                'mean': 12424,\n",
    "                'std': 344531,\n",
    "                'min': 23423,\n",
    "                'max': 12\n",
    "            }\n",
    "\n",
    "print(f'{timings,}')"
   ]
  },
  {
   "cell_type": "code",
   "execution_count": 7,
   "metadata": {},
   "outputs": [
    {
     "data": {
      "text/plain": [
       "('0', '1', '2')"
      ]
     },
     "execution_count": 7,
     "metadata": {},
     "output_type": "execute_result"
    }
   ],
   "source": [
    "tuple(f'{a}' for a in range(3))"
   ]
  },
  {
   "cell_type": "code",
   "execution_count": 2,
   "metadata": {},
   "outputs": [
    {
     "data": {
      "text/html": [
       "<div>\n",
       "<style scoped>\n",
       "    .dataframe tbody tr th:only-of-type {\n",
       "        vertical-align: middle;\n",
       "    }\n",
       "\n",
       "    .dataframe tbody tr th {\n",
       "        vertical-align: top;\n",
       "    }\n",
       "\n",
       "    .dataframe thead th {\n",
       "        text-align: right;\n",
       "    }\n",
       "</style>\n",
       "<table border=\"1\" class=\"dataframe\">\n",
       "  <thead>\n",
       "    <tr style=\"text-align: right;\">\n",
       "      <th></th>\n",
       "      <th>class</th>\n",
       "      <th>order</th>\n",
       "      <th>max_speed</th>\n",
       "    </tr>\n",
       "  </thead>\n",
       "  <tbody>\n",
       "    <tr>\n",
       "      <th>0</th>\n",
       "      <td>bird</td>\n",
       "      <td>Falconiformes</td>\n",
       "      <td>389.0</td>\n",
       "    </tr>\n",
       "    <tr>\n",
       "      <th>1</th>\n",
       "      <td>bird</td>\n",
       "      <td>Psittaciformes</td>\n",
       "      <td>24.0</td>\n",
       "    </tr>\n",
       "    <tr>\n",
       "      <th>2</th>\n",
       "      <td>mammal</td>\n",
       "      <td>Carnivora</td>\n",
       "      <td>80.2</td>\n",
       "    </tr>\n",
       "    <tr>\n",
       "      <th>3</th>\n",
       "      <td>mammal</td>\n",
       "      <td>Primates</td>\n",
       "      <td>NaN</td>\n",
       "    </tr>\n",
       "    <tr>\n",
       "      <th>4</th>\n",
       "      <td>mammal</td>\n",
       "      <td>Carnivora</td>\n",
       "      <td>58.0</td>\n",
       "    </tr>\n",
       "  </tbody>\n",
       "</table>\n",
       "</div>"
      ],
      "text/plain": [
       "    class           order  max_speed\n",
       "0    bird   Falconiformes      389.0\n",
       "1    bird  Psittaciformes       24.0\n",
       "2  mammal       Carnivora       80.2\n",
       "3  mammal        Primates        NaN\n",
       "4  mammal       Carnivora       58.0"
      ]
     },
     "execution_count": 2,
     "metadata": {},
     "output_type": "execute_result"
    }
   ],
   "source": [
    "import pandas as pd\n",
    "import numpy as np\n",
    "\n",
    "speeds = pd.DataFrame([\n",
    "        (\"bird\", \"Falconiformes\", 389.0),\n",
    "        (\"bird\", \"Psittaciformes\", 24.0),\n",
    "        (\"mammal\", \"Carnivora\", 80.2),\n",
    "        (\"mammal\", \"Primates\", np.nan),\n",
    "        (\"mammal\", \"Carnivora\", 58),\n",
    "        ],\n",
    "        columns=(\"class\", \"order\", \"max_speed\"),\n",
    ")\n",
    "speeds"
   ]
  },
  {
   "cell_type": "code",
   "execution_count": 11,
   "metadata": {},
   "outputs": [
    {
     "data": {
      "text/html": [
       "<div>\n",
       "<style scoped>\n",
       "    .dataframe tbody tr th:only-of-type {\n",
       "        vertical-align: middle;\n",
       "    }\n",
       "\n",
       "    .dataframe tbody tr th {\n",
       "        vertical-align: top;\n",
       "    }\n",
       "\n",
       "    .dataframe thead th {\n",
       "        text-align: right;\n",
       "    }\n",
       "</style>\n",
       "<table border=\"1\" class=\"dataframe\">\n",
       "  <thead>\n",
       "    <tr style=\"text-align: right;\">\n",
       "      <th></th>\n",
       "      <th></th>\n",
       "      <th>max_speed</th>\n",
       "    </tr>\n",
       "    <tr>\n",
       "      <th>class</th>\n",
       "      <th>order</th>\n",
       "      <th></th>\n",
       "    </tr>\n",
       "  </thead>\n",
       "  <tbody>\n",
       "    <tr>\n",
       "      <th rowspan=\"2\" valign=\"top\">bird</th>\n",
       "      <th>Falconiformes</th>\n",
       "      <td>389.0</td>\n",
       "    </tr>\n",
       "    <tr>\n",
       "      <th>Psittaciformes</th>\n",
       "      <td>24.0</td>\n",
       "    </tr>\n",
       "    <tr>\n",
       "      <th rowspan=\"3\" valign=\"top\">mammal</th>\n",
       "      <th>Carnivora</th>\n",
       "      <td>80.2</td>\n",
       "    </tr>\n",
       "    <tr>\n",
       "      <th>Primates</th>\n",
       "      <td>NaN</td>\n",
       "    </tr>\n",
       "    <tr>\n",
       "      <th>Carnivora</th>\n",
       "      <td>58.0</td>\n",
       "    </tr>\n",
       "  </tbody>\n",
       "</table>\n",
       "</div>"
      ],
      "text/plain": [
       "                       max_speed\n",
       "class  order                    \n",
       "bird   Falconiformes       389.0\n",
       "       Psittaciformes       24.0\n",
       "mammal Carnivora            80.2\n",
       "       Primates              NaN\n",
       "       Carnivora            58.0"
      ]
     },
     "execution_count": 11,
     "metadata": {},
     "output_type": "execute_result"
    }
   ],
   "source": [
    "grouped = speeds.set_index(['class', 'order'])\n",
    "grouped"
   ]
  },
  {
   "cell_type": "code",
   "execution_count": 25,
   "metadata": {},
   "outputs": [
    {
     "data": {
      "text/html": [
       "<div>\n",
       "<style scoped>\n",
       "    .dataframe tbody tr th:only-of-type {\n",
       "        vertical-align: middle;\n",
       "    }\n",
       "\n",
       "    .dataframe tbody tr th {\n",
       "        vertical-align: top;\n",
       "    }\n",
       "\n",
       "    .dataframe thead th {\n",
       "        text-align: right;\n",
       "    }\n",
       "</style>\n",
       "<table border=\"1\" class=\"dataframe\">\n",
       "  <thead>\n",
       "    <tr style=\"text-align: right;\">\n",
       "      <th></th>\n",
       "      <th>test</th>\n",
       "      <th>foo</th>\n",
       "    </tr>\n",
       "  </thead>\n",
       "  <tbody>\n",
       "    <tr>\n",
       "      <th>0</th>\n",
       "      <td>23</td>\n",
       "      <td>12</td>\n",
       "    </tr>\n",
       "  </tbody>\n",
       "</table>\n",
       "</div>"
      ],
      "text/plain": [
       "   test  foo\n",
       "0    23   12"
      ]
     },
     "execution_count": 25,
     "metadata": {},
     "output_type": "execute_result"
    }
   ],
   "source": [
    "timing_df = pd.DataFrame()\n",
    "pd.concat([timing_df, pd.DataFrame.from_records([{'test': 23, 'foo': 12}])], ignore_index=True)"
   ]
  },
  {
   "cell_type": "code",
   "execution_count": 24,
   "metadata": {},
   "outputs": [
    {
     "data": {
      "text/html": [
       "<div>\n",
       "<style scoped>\n",
       "    .dataframe tbody tr th:only-of-type {\n",
       "        vertical-align: middle;\n",
       "    }\n",
       "\n",
       "    .dataframe tbody tr th {\n",
       "        vertical-align: top;\n",
       "    }\n",
       "\n",
       "    .dataframe thead th {\n",
       "        text-align: right;\n",
       "    }\n",
       "</style>\n",
       "<table border=\"1\" class=\"dataframe\">\n",
       "  <thead>\n",
       "    <tr style=\"text-align: right;\">\n",
       "      <th></th>\n",
       "      <th>test</th>\n",
       "      <th>foo</th>\n",
       "    </tr>\n",
       "  </thead>\n",
       "  <tbody>\n",
       "    <tr>\n",
       "      <th>0</th>\n",
       "      <td>23</td>\n",
       "      <td>12</td>\n",
       "    </tr>\n",
       "  </tbody>\n",
       "</table>\n",
       "</div>"
      ],
      "text/plain": [
       "   test  foo\n",
       "0    23   12"
      ]
     },
     "execution_count": 24,
     "metadata": {},
     "output_type": "execute_result"
    }
   ],
   "source": [
    "pd.DataFrame.from_records([{'test': 23, 'foo': 12}])"
   ]
  },
  {
   "cell_type": "code",
   "execution_count": 28,
   "metadata": {},
   "outputs": [
    {
     "name": "stdout",
     "output_type": "stream",
     "text": [
      "|---|---|---|\n",
      "| \\hlineHeader 1 | Header 2 | Header 3 |\n",
      "| \\hline__MULTIROW_0____MULTIROW_0__ | Value 2 | Value 3 |\n",
      "|  | Value 4 | Value 5 |\n",
      "| \\hlineValue 6 | Value 7 | Value 8 |\n",
      "| \\hline |\n"
     ]
    }
   ],
   "source": [
    "import re\n",
    "\n",
    "def latex_to_markdown(latex_table):\n",
    "    # Remove the table environment and alignment specifiers\n",
    "    table_body = re.search(r'\\\\begin{tabular}.*?\\{(.*?)\\}(.*)\\\\end{tabular}', latex_table, re.DOTALL)\n",
    "    if not table_body:\n",
    "        return \"Invalid LaTeX table\"\n",
    "    alignment = table_body.group(1)\n",
    "    table_content = table_body.group(2)\n",
    "\n",
    "    # Replace LaTeX alignment specifiers with corresponding Markdown syntax\n",
    "    alignment_map = {\n",
    "        'c': '---',\n",
    "        'l': ':---',\n",
    "        'r': '---:',\n",
    "        '|': '|'\n",
    "    }\n",
    "    markdown_alignment = ''.join([alignment_map.get(c, '|') for c in alignment])\n",
    "\n",
    "    # Preprocess table content to replace multirow cells with placeholders\n",
    "    multirow_pattern = re.compile(r'\\\\multirow{(\\d+)}{.*?}{(.*?)}')\n",
    "    placeholders = {}\n",
    "    def replace_multirow(match):\n",
    "        count = int(match.group(1))\n",
    "        content = match.group(2)\n",
    "        placeholder = f'__MULTIROW_{len(placeholders)}__'\n",
    "        placeholders[placeholder] = content\n",
    "        return placeholder * count\n",
    "    table_content = multirow_pattern.sub(replace_multirow, table_content)\n",
    "\n",
    "    # Split the table content into rows\n",
    "    rows = table_content.strip().split(r'\\\\')\n",
    "\n",
    "    # Process each row and convert it to Markdown\n",
    "    markdown_rows = []\n",
    "    for row in rows:\n",
    "        cells = row.strip().split('&')\n",
    "        for i, cell in enumerate(cells):\n",
    "            # Remove any newline characters and trim whitespace\n",
    "            cell = cell.replace('\\n', '').strip()\n",
    "            # Replace placeholders with multirow content\n",
    "            if cell in placeholders:\n",
    "                cells[i] = placeholders[cell]\n",
    "            else:\n",
    "                # Add Markdown formatting for non-multirow cells\n",
    "                cells[i] = cell\n",
    "\n",
    "        markdown_row = '| ' + ' | '.join(cells) + ' |'\n",
    "        markdown_rows.append(markdown_row)\n",
    "\n",
    "    # Combine Markdown rows and alignment specifier\n",
    "    markdown_table = markdown_alignment + '\\n' + '\\n'.join(markdown_rows)\n",
    "\n",
    "    return markdown_table\n",
    "\n",
    "# Example LaTeX table with multirow cells\n",
    "latex_table = r\"\"\"\n",
    "\\begin{tabular}{|c|c|c|}\n",
    "\\hline\n",
    "Header 1 & Header 2 & Header 3 \\\\\n",
    "\\hline\n",
    "\\multirow{2}{*}{Value 1} & Value 2 & Value 3 \\\\\n",
    "& Value 4 & Value 5 \\\\\n",
    "\\hline\n",
    "Value 6 & Value 7 & Value 8 \\\\\n",
    "\\hline\n",
    "\\end{tabular}\n",
    "\"\"\"\n",
    "\n",
    "markdown_table = latex_to_markdown(latex_table)\n",
    "print(markdown_table)\n",
    "\n"
   ]
  },
  {
   "cell_type": "code",
   "execution_count": 37,
   "metadata": {},
   "outputs": [],
   "source": [
    "def linear_fit(dim: int):\n",
    "    x = np.linspace(-10, 10, dim)\n",
    "    y = 2*x**2 + 4 +np.random.rand(len(x))\n",
    "    return np.polynomial.Polynomial.fit(x, y, deg=2)\n",
    "\n",
    "foo = linear_fit(100)"
   ]
  },
  {
   "cell_type": "code",
   "execution_count": 38,
   "metadata": {},
   "outputs": [
    {
     "data": {
      "text/latex": [
       "$x \\mapsto \\text{4.55904283} - \\text{0.0182357}\\,\\left(\\text{0.1}x\\right) + \\text{199.8982767}\\,\\left(\\text{0.1}x\\right)^{2}$"
      ],
      "text/plain": [
       "Polynomial([ 4.55904283e+00, -1.82357030e-02,  1.99898277e+02], domain=[-10.,  10.], window=[-1.,  1.], symbol='x')"
      ]
     },
     "execution_count": 38,
     "metadata": {},
     "output_type": "execute_result"
    }
   ],
   "source": [
    "foo"
   ]
  },
  {
   "cell_type": "code",
   "execution_count": 9,
   "metadata": {},
   "outputs": [],
   "source": [
    "def fibonacci(n):\n",
    "    if n <= 1:\n",
    "        return n\n",
    "    fib_prev = 0\n",
    "    fib_current = 1\n",
    "    for _ in range(2, n + 1):\n",
    "        fib_prev, fib_current = fib_current, fib_prev + fib_current\n",
    "    return fib_current\n"
   ]
  },
  {
   "cell_type": "code",
   "execution_count": 13,
   "metadata": {},
   "outputs": [
    {
     "name": "stdout",
     "output_type": "stream",
     "text": [
      "4.06e-02\n"
     ]
    }
   ],
   "source": [
    "import math\n",
    "import time\n",
    "\n",
    "t0 = time.time()\n",
    "fibonacci(50000)\n",
    "t1 = time.time()\n",
    "print(f'{t1-t0:.2e}')"
   ]
  },
  {
   "cell_type": "code",
   "execution_count": null,
   "metadata": {},
   "outputs": [],
   "source": []
  }
 ],
 "metadata": {
  "kernelspec": {
   "display_name": "Python 3.9.7 ('base')",
   "language": "python",
   "name": "python3"
  },
  "language_info": {
   "codemirror_mode": {
    "name": "ipython",
    "version": 3
   },
   "file_extension": ".py",
   "mimetype": "text/x-python",
   "name": "python",
   "nbconvert_exporter": "python",
   "pygments_lexer": "ipython3",
   "version": "3.10.10"
  },
  "orig_nbformat": 4,
  "vscode": {
   "interpreter": {
    "hash": "76d3d9ea52ae0f582c7ab8c3bbc7d312c08f3afa3631e827e583225c1557aa69"
   }
  }
 },
 "nbformat": 4,
 "nbformat_minor": 2
}
